{
 "cells": [
  {
   "cell_type": "code",
   "execution_count": 93,
   "metadata": {},
   "outputs": [],
   "source": [
    "\n",
    "\n",
    "import pandas as pd\n",
    "import numpy as np\n",
    "\n",
    "climate = pd.read_csv(\"C:/Users/Sebastian/OneDrive/Swinburne/Year 3/Data vis COS30045/DataSets/Climate-related_Disasters_Frequency.csv\")\n",
    "temp = pd.read_csv(\"C:/Users/Sebastian/OneDrive/Swinburne/Year 3/Data vis COS30045/DataSets/Annual_Surface_Temperature_Change_Trimmed.csv\")\n",
    "pop = pd.read_csv(\"DP_LIVE_08052023031909433.csv\")\n",
    "mig = pd.read_csv(\"C:/Users/Sebastian/OneDrive/Swinburne/Year 3/Data vis COS30045/DataSets/TotalByCountryByYear.csv\")"
   ]
  },
  {
   "cell_type": "code",
   "execution_count": 94,
   "metadata": {},
   "outputs": [],
   "source": [
    "new_names = {}\n",
    "for col in temp.columns:\n",
    "    if col.startswith('T'):\n",
    "        new_names[col] = col[1:]\n",
    "temp = temp.rename(columns=new_names)"
   ]
  },
  {
   "cell_type": "code",
   "execution_count": 95,
   "metadata": {},
   "outputs": [],
   "source": [
    "temp = temp[['ISO3','2000','2001','2002','2003','2004','2005','2006','2007','2008','2009','2010','2011','2012','2013','2014','2015','2016','2017','2018','2019','2020','2021']]"
   ]
  },
  {
   "cell_type": "code",
   "execution_count": 96,
   "metadata": {},
   "outputs": [],
   "source": [
    "new_names = {}\n",
    "for col in climate.columns:\n",
    "    if col.startswith('F'):\n",
    "        new_names[col] = col[1:]\n",
    "climate = climate.rename(columns=new_names)"
   ]
  },
  {
   "cell_type": "code",
   "execution_count": 97,
   "metadata": {},
   "outputs": [],
   "source": [
    "climate = climate.loc[climate['Indicator']==\"Climate related disasters frequency, Number of Disasters: TOTAL\"]"
   ]
  },
  {
   "cell_type": "code",
   "execution_count": 98,
   "metadata": {},
   "outputs": [],
   "source": [
    "climate = climate[['ISO3', 'Indicator','2000','2001','2002','2003','2004','2005','2006','2007','2008','2009','2010','2011','2012','2013','2014','2015','2016','2017','2018','2019','2020','2021']]"
   ]
  },
  {
   "cell_type": "code",
   "execution_count": 99,
   "metadata": {},
   "outputs": [
    {
     "data": {
      "text/html": [
       "<div>\n",
       "<style scoped>\n",
       "    .dataframe tbody tr th:only-of-type {\n",
       "        vertical-align: middle;\n",
       "    }\n",
       "\n",
       "    .dataframe tbody tr th {\n",
       "        vertical-align: top;\n",
       "    }\n",
       "\n",
       "    .dataframe thead th {\n",
       "        text-align: right;\n",
       "    }\n",
       "</style>\n",
       "<table border=\"1\" class=\"dataframe\">\n",
       "  <thead>\n",
       "    <tr style=\"text-align: right;\">\n",
       "      <th></th>\n",
       "      <th>ISO3</th>\n",
       "      <th>Indicator</th>\n",
       "      <th>Year</th>\n",
       "      <th>Value</th>\n",
       "    </tr>\n",
       "  </thead>\n",
       "  <tbody>\n",
       "    <tr>\n",
       "      <th>0</th>\n",
       "      <td>AFG</td>\n",
       "      <td>Climate related disasters frequency, Number of...</td>\n",
       "      <td>2000</td>\n",
       "      <td>1.0</td>\n",
       "    </tr>\n",
       "    <tr>\n",
       "      <th>1</th>\n",
       "      <td>ALB</td>\n",
       "      <td>Climate related disasters frequency, Number of...</td>\n",
       "      <td>2000</td>\n",
       "      <td>NaN</td>\n",
       "    </tr>\n",
       "    <tr>\n",
       "      <th>2</th>\n",
       "      <td>DZA</td>\n",
       "      <td>Climate related disasters frequency, Number of...</td>\n",
       "      <td>2000</td>\n",
       "      <td>5.0</td>\n",
       "    </tr>\n",
       "    <tr>\n",
       "      <th>3</th>\n",
       "      <td>ASM</td>\n",
       "      <td>Climate related disasters frequency, Number of...</td>\n",
       "      <td>2000</td>\n",
       "      <td>NaN</td>\n",
       "    </tr>\n",
       "    <tr>\n",
       "      <th>4</th>\n",
       "      <td>AGO</td>\n",
       "      <td>Climate related disasters frequency, Number of...</td>\n",
       "      <td>2000</td>\n",
       "      <td>5.0</td>\n",
       "    </tr>\n",
       "    <tr>\n",
       "      <th>...</th>\n",
       "      <td>...</td>\n",
       "      <td>...</td>\n",
       "      <td>...</td>\n",
       "      <td>...</td>\n",
       "    </tr>\n",
       "    <tr>\n",
       "      <th>4725</th>\n",
       "      <td>WLF</td>\n",
       "      <td>Climate related disasters frequency, Number of...</td>\n",
       "      <td>2021</td>\n",
       "      <td>NaN</td>\n",
       "    </tr>\n",
       "    <tr>\n",
       "      <th>4726</th>\n",
       "      <td>PSE</td>\n",
       "      <td>Climate related disasters frequency, Number of...</td>\n",
       "      <td>2021</td>\n",
       "      <td>NaN</td>\n",
       "    </tr>\n",
       "    <tr>\n",
       "      <th>4727</th>\n",
       "      <td>YEM</td>\n",
       "      <td>Climate related disasters frequency, Number of...</td>\n",
       "      <td>2021</td>\n",
       "      <td>2.0</td>\n",
       "    </tr>\n",
       "    <tr>\n",
       "      <th>4728</th>\n",
       "      <td>ZMB</td>\n",
       "      <td>Climate related disasters frequency, Number of...</td>\n",
       "      <td>2021</td>\n",
       "      <td>1.0</td>\n",
       "    </tr>\n",
       "    <tr>\n",
       "      <th>4729</th>\n",
       "      <td>ZWE</td>\n",
       "      <td>Climate related disasters frequency, Number of...</td>\n",
       "      <td>2021</td>\n",
       "      <td>2.0</td>\n",
       "    </tr>\n",
       "  </tbody>\n",
       "</table>\n",
       "<p>4730 rows × 4 columns</p>\n",
       "</div>"
      ],
      "text/plain": [
       "     ISO3                                          Indicator  Year  Value\n",
       "0     AFG  Climate related disasters frequency, Number of...  2000    1.0\n",
       "1     ALB  Climate related disasters frequency, Number of...  2000    NaN\n",
       "2     DZA  Climate related disasters frequency, Number of...  2000    5.0\n",
       "3     ASM  Climate related disasters frequency, Number of...  2000    NaN\n",
       "4     AGO  Climate related disasters frequency, Number of...  2000    5.0\n",
       "...   ...                                                ...   ...    ...\n",
       "4725  WLF  Climate related disasters frequency, Number of...  2021    NaN\n",
       "4726  PSE  Climate related disasters frequency, Number of...  2021    NaN\n",
       "4727  YEM  Climate related disasters frequency, Number of...  2021    2.0\n",
       "4728  ZMB  Climate related disasters frequency, Number of...  2021    1.0\n",
       "4729  ZWE  Climate related disasters frequency, Number of...  2021    2.0\n",
       "\n",
       "[4730 rows x 4 columns]"
      ]
     },
     "execution_count": 99,
     "metadata": {},
     "output_type": "execute_result"
    }
   ],
   "source": [
    "id_vars = ['ISO3','Indicator']\n",
    "df_melted = pd.melt(climate, id_vars=id_vars, var_name='Year', value_name='Value')\n",
    "df_melted"
   ]
  },
  {
   "cell_type": "code",
   "execution_count": 100,
   "metadata": {},
   "outputs": [],
   "source": [
    "id_vars = ['ISO3']\n",
    "temp = pd.melt(temp, id_vars=id_vars, var_name='Year', value_name='Temp')\n"
   ]
  },
  {
   "cell_type": "code",
   "execution_count": 101,
   "metadata": {},
   "outputs": [],
   "source": [
    "df_melted = df_melted.rename(columns={'Value': 'Disaster Count'})\n",
    "df_melted['Year']=df_melted['Year'].astype(int)\n",
    "mig['Year'] = mig['Year'].astype(int)\n",
    "temp['Year'] = temp['Year'].astype(int)\n",
    "df_merged = df_melted.merge(mig, on=['ISO3', 'Year'], how='inner')"
   ]
  },
  {
   "cell_type": "code",
   "execution_count": 102,
   "metadata": {},
   "outputs": [],
   "source": [
    "pop = pop.loc[pop[\"SUBJECT\"] == \"TOT\"]\n",
    "df_merged = df_merged.rename(columns={\"Value\": \"outflow_migration\"})\n",
    "pop = pop.rename(columns={\"Value\": \"population_millions\"})"
   ]
  },
  {
   "cell_type": "code",
   "execution_count": 103,
   "metadata": {},
   "outputs": [],
   "source": [
    "df_merged = df_merged.merge(temp, on=['ISO3', 'Year'], how='inner')\n",
    "\n",
    "df_merged = df_merged.merge(pop, on=['ISO3', 'Year'], how='inner')\n"
   ]
  },
  {
   "cell_type": "code",
   "execution_count": null,
   "metadata": {},
   "outputs": [],
   "source": []
  },
  {
   "cell_type": "code",
   "execution_count": 104,
   "metadata": {},
   "outputs": [],
   "source": [
    "df_merged.to_csv('C:/Users/Sebastian/OneDrive/Swinburne/Year 3/Data vis COS30045/DataSets/merged.csv')"
   ]
  },
  {
   "cell_type": "code",
   "execution_count": null,
   "metadata": {},
   "outputs": [],
   "source": []
  },
  {
   "cell_type": "code",
   "execution_count": null,
   "metadata": {},
   "outputs": [],
   "source": []
  },
  {
   "cell_type": "code",
   "execution_count": null,
   "metadata": {},
   "outputs": [],
   "source": []
  }
 ],
 "metadata": {
  "kernelspec": {
   "display_name": "Python 3",
   "language": "python",
   "name": "python3"
  },
  "language_info": {
   "codemirror_mode": {
    "name": "ipython",
    "version": 3
   },
   "file_extension": ".py",
   "mimetype": "text/x-python",
   "name": "python",
   "nbconvert_exporter": "python",
   "pygments_lexer": "ipython3",
   "version": "3.11.0"
  },
  "orig_nbformat": 4
 },
 "nbformat": 4,
 "nbformat_minor": 2
}
